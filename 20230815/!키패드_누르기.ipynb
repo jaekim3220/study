{
 "cells": [
  {
   "cell_type": "code",
   "execution_count": 7,
   "metadata": {},
   "outputs": [],
   "source": [
    "def solution(numbers, hand):\n",
    "    answer = ''\n",
    "    keyPad = [\n",
    "        ['1','2','3'],\n",
    "        ['4','5','6'],\n",
    "        ['7','8','9'],\n",
    "        ['*','0','#']]\n",
    "    left = '*'  #초기위치\n",
    "    right = '#'  #초기위치\n",
    "\n",
    "    for num in numbers:\n",
    "        push = '' #버튼을 누를 손\n",
    "        if num in ['1','2','3']:\n",
    "            push = \"L\"\n",
    "        elif num in ['4','5','6']:\n",
    "            push = \"R\"\n",
    "        else:   #중간 키패드\n",
    "            for i in range(len(keyPad)):    # 손가락과 숫자의 위치\n",
    "                for j in range(len(keyPad[i])):\n",
    "                    if left == keyPad[i][j]:    # 왼손이 키패드 중간에 위치한 경우\n",
    "                        leftLoc = [i, j]  # 왼손 위치 저장\n",
    "                    if right == keyPad[i][j]: # 오른손이 키패드 중간에 위치한 경우\n",
    "                        rightLoc = [i, j]  # 오른손 위치 저장\n",
    "                    if str(num) == keyPad[i][j]:  # 키패드 중간에 위치한 숫자의 위치 정보\n",
    "                        numLoc = [i, j] # 없으면 왼손/오른손과 중간 키패드의 거리 계산 불가\n",
    "            \n",
    "            # 왼손과 숫자 거리\n",
    "            leftLen = abs(numLoc[0] - leftLoc[0]) + abs(numLoc[1] - leftLoc[1])\n",
    "            # 오른손과 숫자 거리\n",
    "            rightLen = abs(numLoc[0] - rightLoc[0]) + abs(numLoc[1] - rightLoc[1])\n",
    "\n",
    "            if leftLen < rightLen:\n",
    "                push = \"L\"\n",
    "            elif rightLen < leftLen:\n",
    "                push = \"R\"\n",
    "            else:  # 거리가 같은 경우\n",
    "                if hand == 'left':  # 왼손잡이\n",
    "                    push = \"L\"\n",
    "                else:   # 오른손잡이\n",
    "                    push = \"R\"\n",
    "\n",
    "        if push == 'L':\n",
    "            answer += \"L\"\n",
    "        else:\n",
    "            answer += \"R\"\n",
    "\n",
    "    return answer"
   ]
  },
  {
   "cell_type": "code",
   "execution_count": 8,
   "metadata": {},
   "outputs": [
    {
     "name": "stdout",
     "output_type": "stream",
     "text": [
      "LRLRRRLLRRR\n",
      "LLLLLRLLLRL\n",
      "LRRLRRLRRR\n"
     ]
    }
   ],
   "source": [
    "print(solution([1, 3, 4, 5, 8, 2, 1, 4, 5, 9, 5], \"right\")) #\"LRLLLRLLRRL\"\n",
    "print(solution([7, 0, 8, 2, 8, 3, 1, 5, 7, 6, 2], \"left\"))  #\"LRLLRRLLLRR\"\n",
    "print(solution([1, 2, 3, 4, 5, 6, 7, 8, 9, 0], \"right\"))    #\"LLRLLRLLRL\""
   ]
  },
  {
   "cell_type": "code",
   "execution_count": null,
   "metadata": {},
   "outputs": [],
   "source": []
  }
 ],
 "metadata": {
  "kernelspec": {
   "display_name": "Python 3",
   "language": "python",
   "name": "python3"
  },
  "language_info": {
   "codemirror_mode": {
    "name": "ipython",
    "version": 3
   },
   "file_extension": ".py",
   "mimetype": "text/x-python",
   "name": "python",
   "nbconvert_exporter": "python",
   "pygments_lexer": "ipython3",
   "version": "3.11.0"
  },
  "orig_nbformat": 4
 },
 "nbformat": 4,
 "nbformat_minor": 2
}
