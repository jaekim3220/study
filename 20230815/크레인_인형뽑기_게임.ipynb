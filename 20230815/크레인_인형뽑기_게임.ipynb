{
 "cells": [
  {
   "cell_type": "code",
   "execution_count": 1,
   "metadata": {},
   "outputs": [],
   "source": [
    "# 1번\n",
    "def solution(board, moves):\n",
    "    basket = [] #바구니\n",
    "    answer = 0\n",
    "    \n",
    "    for move in moves:  #집게의 움직임\n",
    "        for i in range(len(board)):\n",
    "            if board[i][move-1] != 0:   #값이 존재할 경우\n",
    "                basket.append(board[i][move-1]) #board의 값(인형)을\n",
    "                board[i][move-1] = 0    # 인형을 뽑았으므로 인형을 뽑은 칸은 빈칸으로 처리\n",
    "                \n",
    "                if len(basket) > 1: #인형이 2개 이상 존재할 경우\n",
    "                    if basket[-1] == basket[-2]:    #가장 최근 2개의 인형이 같은 경우\n",
    "                        basket.pop(-1)  #인형 폭파1\n",
    "                        basket.pop(-1)  #인형 폭파2\n",
    "                        answer += 2\n",
    "                break   \n",
    "    return answer"
   ]
  },
  {
   "cell_type": "code",
   "execution_count": 3,
   "metadata": {},
   "outputs": [],
   "source": [
    "# 2번 - 1번 개선\n",
    "def solution(board, moves):\n",
    "    basket = [] #바구니\n",
    "    answer = 0\n",
    "    \n",
    "    for move in moves:  #집게의 움직임\n",
    "        move -= 1  # 배열 인덱스는 0부터 시작하므로 조정\n",
    "        for i in range(len(board)):\n",
    "            if board[i][move] != 0:   #값이 존재할 경우\n",
    "                basket.append(board[i][move]) #board의 값(인형)을\n",
    "                board[i][move] = 0    # 인형을 뽑았으므로 인형을 뽑은 칸은 빈칸으로 처리\n",
    "                \n",
    "                if len(basket) > 1: #인형이 2개 이상 존재할 경우\n",
    "                    if basket[-1] == basket[-2]:    #가장 최근 2개의 인형이 같은 경우\n",
    "                        basket.pop(-1)  #인형 폭파1\n",
    "                        basket.pop(-1)  #인형 폭파2\n",
    "                        answer += 2\n",
    "                break   \n",
    "    return answer"
   ]
  },
  {
   "cell_type": "code",
   "execution_count": 4,
   "metadata": {},
   "outputs": [
    {
     "name": "stdout",
     "output_type": "stream",
     "text": [
      "4\n"
     ]
    }
   ],
   "source": [
    "board = [[0,0,0,0,0],[0,0,1,0,3],[0,2,5,0,1],[4,2,4,4,2],[3,5,1,3,1]]\n",
    "moves = [1,5,3,5,1,2,1,4]\n",
    "print(solution(board, moves))   # 4"
   ]
  },
  {
   "cell_type": "code",
   "execution_count": 5,
   "metadata": {},
   "outputs": [
    {
     "name": "stdout",
     "output_type": "stream",
     "text": [
      "4\n"
     ]
    }
   ],
   "source": [
    "def solution(board, moves):\n",
    "    answer = 0\n",
    "    basket = []  # 바구니 역할을 하는 스택\n",
    "\n",
    "    for move in moves:\n",
    "        move -= 1  # 배열 인덱스는 0부터 시작하므로 조정\n",
    "        # 크레인이 움직인 위치에서 가장 위에 있는 인형 찾기\n",
    "        for i in range(len(board)):\n",
    "            if board[i][move] != 0:\n",
    "                doll = board[i][move]  # 인형을 뽑음\n",
    "                board[i][move] = 0  # 인형을 뽑았으므로 해당 칸은 빈칸으로 처리\n",
    "                \n",
    "                # 바구니에 같은 모양의 인형이 연속해서 있으면 터트림\n",
    "                if basket and basket[-1] == doll:\n",
    "                    basket.pop()\n",
    "                    answer += 2  # 터진 인형의 개수를 증가\n",
    "                else:\n",
    "                    basket.append(doll)\n",
    "                break  # 인형을 찾았으므로 더 이상 검사하지 않음\n",
    "\n",
    "    return answer\n",
    "\n",
    "board = [[0,0,0,0,0],[0,0,1,0,3],[0,2,5,0,1],[4,2,4,4,2],[3,5,1,3,1]]\n",
    "moves = [1,5,3,5,1,2,1,4]\n",
    "print(solution(board, moves))   # 4"
   ]
  },
  {
   "cell_type": "code",
   "execution_count": null,
   "metadata": {},
   "outputs": [],
   "source": []
  }
 ],
 "metadata": {
  "kernelspec": {
   "display_name": "Python 3",
   "language": "python",
   "name": "python3"
  },
  "language_info": {
   "codemirror_mode": {
    "name": "ipython",
    "version": 3
   },
   "file_extension": ".py",
   "mimetype": "text/x-python",
   "name": "python",
   "nbconvert_exporter": "python",
   "pygments_lexer": "ipython3",
   "version": "3.9.13"
  },
  "orig_nbformat": 4
 },
 "nbformat": 4,
 "nbformat_minor": 2
}
