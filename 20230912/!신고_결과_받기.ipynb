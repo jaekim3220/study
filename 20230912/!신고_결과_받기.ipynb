{
 "cells": [
  {
   "cell_type": "code",
   "execution_count": 1,
   "metadata": {},
   "outputs": [],
   "source": [
    "# id_list = [\"muzi\", \"frodo\", \"apeach\", \"neo\"]\n",
    "# report = [\"muzi frodo\",\"apeach frodo\",\"frodo neo\",\"muzi neo\",\"apeach muzi\"]\n",
    "# k = 2\n",
    "def solution(id_list, report, k):\n",
    "    # answer = []\n",
    "    report = set(report)    #중복신고 제거\n",
    "    arrayReport = {}    # 유저가 신고한 ID\n",
    "\n",
    "    # 신고 정보 저장\n",
    "    for r in report:\n",
    "        신고 = r.split()    #공백을 기준으로 report를 분리\n",
    "        if 신고[0] in arrayReport:\n",
    "            arrayReport[신고[0]] += [신고[1]]\n",
    "        else:\n",
    "            arrayReport[신고[0]] = [신고[1]]\n",
    "\n",
    "    # 신고된 ID 추출\n",
    "    callID = []\n",
    "    for i in arrayReport.values():\n",
    "        callID += i\n",
    "\n",
    "    # k번 이상 신고된 유저만 추출\n",
    "    reportK = []\n",
    "    for i in id_list:\n",
    "        if i in callID:\n",
    "            if callID.count(i) >= k:\n",
    "                reportK += [i]\n",
    "\n",
    "    # 메일 전송\n",
    "    answer = []\n",
    "    for i in id_list:\n",
    "        if i in arrayReport.keys():\n",
    "            count = 0\n",
    "            for j in arrayReport[i]:\n",
    "                if j in reportK:\n",
    "                    count +=1\n",
    "            answer += [count]\n",
    "        else:\n",
    "            answer += [0]\n",
    "\n",
    "    return answer"
   ]
  },
  {
   "cell_type": "code",
   "execution_count": 2,
   "metadata": {},
   "outputs": [
    {
     "name": "stdout",
     "output_type": "stream",
     "text": [
      "[2, 1, 1, 0]\n",
      "[0, 0]\n"
     ]
    }
   ],
   "source": [
    "print(solution([\"muzi\", \"frodo\", \"apeach\", \"neo\"], \n",
    "               [\"muzi frodo\",\"apeach frodo\",\"frodo neo\",\"muzi neo\",\"apeach muzi\"], \n",
    "               2))  #[2,1,1,0]\n",
    "print(solution([\"con\", \"ryan\"], \n",
    "               [\"ryan con\", \"ryan con\", \"ryan con\", \"ryan con\"], \n",
    "               3))  #[0,0]"
   ]
  },
  {
   "cell_type": "code",
   "execution_count": null,
   "metadata": {},
   "outputs": [],
   "source": []
  }
 ],
 "metadata": {
  "kernelspec": {
   "display_name": "Python 3",
   "language": "python",
   "name": "python3"
  },
  "language_info": {
   "codemirror_mode": {
    "name": "ipython",
    "version": 3
   },
   "file_extension": ".py",
   "mimetype": "text/x-python",
   "name": "python",
   "nbconvert_exporter": "python",
   "pygments_lexer": "ipython3",
   "version": "3.9.13"
  },
  "orig_nbformat": 4
 },
 "nbformat": 4,
 "nbformat_minor": 2
}
