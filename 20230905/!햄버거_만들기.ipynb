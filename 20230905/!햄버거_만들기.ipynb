{
 "cells": [
  {
   "cell_type": "markdown",
   "metadata": {},
   "source": [
    " 빵(1) - 야채(2) - 고기(3) - 빵(1) 순서로 재료가 연속할 경우 포장이 가능"
   ]
  },
  {
   "cell_type": "code",
   "execution_count": 27,
   "metadata": {},
   "outputs": [],
   "source": [
    "def solution(ingredient):\n",
    "    재료 = []\n",
    "    포장 = 0\n",
    "    for i in ingredient:    #재료를 순서대로 쌓는다\n",
    "        재료.append(i)\n",
    "        # print(재료)\n",
    "\n",
    "        if 재료[-4:] == [1,2,3,1]:  #재료 1,2,3,1이 연속으로 쌓인다면?\n",
    "            포장 += 1  #포장 횟수 +1\n",
    "            for a in range(4):  #포장에 사용된 재료는 없앤다\n",
    "                재료.pop()\n",
    "    \n",
    "    return 포장"
   ]
  },
  {
   "cell_type": "code",
   "execution_count": 28,
   "metadata": {},
   "outputs": [
    {
     "name": "stdout",
     "output_type": "stream",
     "text": [
      "2\n",
      "0\n"
     ]
    }
   ],
   "source": [
    "print(solution([2, 1, 1, 2, 3, 1, 2, 3, 1]))    #2\n",
    "print(solution([1, 3, 2, 1, 2, 1, 3, 1, 2]))    #0"
   ]
  },
  {
   "cell_type": "code",
   "execution_count": null,
   "metadata": {},
   "outputs": [],
   "source": []
  }
 ],
 "metadata": {
  "kernelspec": {
   "display_name": "Python 3",
   "language": "python",
   "name": "python3"
  },
  "language_info": {
   "codemirror_mode": {
    "name": "ipython",
    "version": 3
   },
   "file_extension": ".py",
   "mimetype": "text/x-python",
   "name": "python",
   "nbconvert_exporter": "python",
   "pygments_lexer": "ipython3",
   "version": "3.9.13"
  },
  "orig_nbformat": 4
 },
 "nbformat": 4,
 "nbformat_minor": 2
}
