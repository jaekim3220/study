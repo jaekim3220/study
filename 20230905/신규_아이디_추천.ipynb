{
 "cells": [
  {
   "cell_type": "code",
   "execution_count": 9,
   "metadata": {},
   "outputs": [],
   "source": [
    "def solution(new_id):\n",
    "    # 1 - 소문자 치환\n",
    "    new_id = new_id.lower()\n",
    "    \n",
    "    # 2 - 특정 문자를 제외한 나머지 문자 제거\n",
    "    answer = ''\n",
    "    for word in new_id:\n",
    "        if word.isalpha() or word.isdigit() or word in [\"-\", \"_\", \".\"]:\n",
    "            answer += word\n",
    "   \n",
    "    # 3 - 연속 마침표(.)를 하나로 치환\n",
    "    while \"..\" in answer:   #연속 마침표가 있다면\n",
    "        answer = answer.replace(\"..\", \".\")\n",
    "    \n",
    "    # 4 - 마침표(.)가 처음이나 끝에 위치한다면 제거\n",
    "    if answer[0] == \".\":\n",
    "        answer = answer[1:] if len(answer) > 1 else \".\"  # str 형식은 pop 불가(AttributeError)\n",
    "    if answer[-1] == \".\":\n",
    "        answer = answer[:-1]\n",
    "    \n",
    "    # 5 - 빈 문자열이라면, new_id에 \"a\"를 대입\n",
    "    if answer == '':\n",
    "        answer += \"a\"\n",
    "    \n",
    "    # 6 - 문자열은 15로 길이 제한(맞침표가 끝에 위치 시 마침표 제거)\n",
    "    if len(answer) > 15:\n",
    "        answer = answer[:15]    #answer = answer[:16]으로 해서 문제가 발생했음\n",
    "        if answer[-1] == \".\":\n",
    "            answer = answer[:-1]\n",
    "    \n",
    "    # 7 - 길이가 2 이하일 경우 마지막 문자를 길이가 3이 될 때까지 반복 삽입\n",
    "    while len(answer) < 3:\n",
    "        answer += answer[-1]\n",
    "\n",
    "    return answer\n",
    "# print(solution(\".../,aa...,,,\"))  #확인용"
   ]
  },
  {
   "cell_type": "code",
   "execution_count": 10,
   "metadata": {},
   "outputs": [
    {
     "name": "stdout",
     "output_type": "stream",
     "text": [
      "bat.y.abcdefghij\n",
      "z--\n",
      "aaa\n",
      "123_.def\n",
      "abcdefghijklmn.p\n"
     ]
    }
   ],
   "source": [
    "print(solution(\"...!@BaT#*..y.abcdefghijklm\"))  #\"bat.y.abcdefghi\" \n",
    "print(solution(\"z-+.^.\"))  #\"z--\"\n",
    "print(solution(\"=.=\"))  #\"aaa\"\n",
    "print(solution(\"123_.def\"))  #\"123_.def\"\n",
    "print(solution(\"abcdefghijklmn.p\"))  #\"abcdefghijklmn\""
   ]
  }
 ],
 "metadata": {
  "kernelspec": {
   "display_name": "Python 3",
   "language": "python",
   "name": "python3"
  },
  "language_info": {
   "codemirror_mode": {
    "name": "ipython",
    "version": 3
   },
   "file_extension": ".py",
   "mimetype": "text/x-python",
   "name": "python",
   "nbconvert_exporter": "python",
   "pygments_lexer": "ipython3",
   "version": "3.9.13"
  },
  "orig_nbformat": 4
 },
 "nbformat": 4,
 "nbformat_minor": 2
}
