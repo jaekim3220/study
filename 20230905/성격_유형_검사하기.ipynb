{
 "cells": [
  {
   "cell_type": "code",
   "execution_count": 3,
   "metadata": {},
   "outputs": [],
   "source": [
    "def solution(survey, choices):\n",
    "    answer = ''\n",
    "    score = {\"R\":0, \"T\":0,\"C\":0,\"F\":0,\"J\":0,\"M\":0,\"A\":0,\"N\":0}\n",
    "    for s, c in zip(survey, choices):\n",
    "        # 선택지가 4보다 크다면 -> 두 번째 글자에 대한 성격 지표를 증가\n",
    "        if c > 4:   \n",
    "            score[s[1]] += c - 4  #점수는 1~3 사이. 4는 모르겠음을 의미\n",
    "        # 선택지가 4보다 작다면 -> 첫 번째 글자에 대한 성격 지표를 증가\n",
    "        elif c < 4:\n",
    "            score[s[0]] += 4 - c\n",
    "\n",
    "    updatetype = list(score.items())\n",
    "\n",
    "    for i in range(0, len(updatetype),2):  #두 유형 중 하나를 선택 후 넘어감\n",
    "        if updatetype[i+1][1] > updatetype[i][1]: #i+1 유형이 더 크다면 ex) RT 중 T가 큰 경우\n",
    "            answer += updatetype[i+1][0]   #i+1 유형을 삽입\n",
    "        else:\n",
    "            answer += updatetype[i][0]\n",
    "\n",
    "    return answer"
   ]
  },
  {
   "cell_type": "code",
   "execution_count": 4,
   "metadata": {},
   "outputs": [
    {
     "name": "stdout",
     "output_type": "stream",
     "text": [
      "0\n",
      "1\n",
      "2\n",
      "3\n",
      "4\n",
      "5\n",
      "6\n",
      "7\n",
      "\n",
      "0\n",
      "1\n",
      "2\n",
      "3\n",
      "4\n",
      "5\n",
      "6\n",
      "7\n",
      "\n"
     ]
    }
   ],
   "source": [
    "print(solution([\"AN\", \"CF\", \"MJ\", \"RT\", \"NA\"], [5, 3, 2, 7, 5]))    #\"TCMA\"\n",
    "print(solution([\"TR\", \"RT\", \"TR\"], [7, 1, 3]))    #\"RCJA\""
   ]
  },
  {
   "cell_type": "code",
   "execution_count": null,
   "metadata": {},
   "outputs": [],
   "source": []
  }
 ],
 "metadata": {
  "kernelspec": {
   "display_name": "Python 3",
   "language": "python",
   "name": "python3"
  },
  "language_info": {
   "codemirror_mode": {
    "name": "ipython",
    "version": 3
   },
   "file_extension": ".py",
   "mimetype": "text/x-python",
   "name": "python",
   "nbconvert_exporter": "python",
   "pygments_lexer": "ipython3",
   "version": "3.9.13"
  },
  "orig_nbformat": 4
 },
 "nbformat": 4,
 "nbformat_minor": 2
}
