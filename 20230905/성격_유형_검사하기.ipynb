{
 "cells": [
  {
   "cell_type": "code",
   "execution_count": 1,
   "metadata": {},
   "outputs": [],
   "source": [
    "def solution(survey, choices):\n",
    "    answer = ''\n",
    "    score = {\"R\":0, \"T\":0,\"C\":0,\"F\":0,\"J\":0,\"M\":0,\"A\":0,\"N\":0}\n",
    "    for s, c in zip(survey, choices):\n",
    "        # 선택지가 4보다 크다면 -> 두 번째 글자에 대한 성격 지표를 증가\n",
    "        if c > 4:   \n",
    "            score[s[1]] += c - 4  #점수는 1~3 사이. 4는 모르겠음을 의미\n",
    "        # 선택지가 4보다 작다면 -> 첫 번째 글자에 대한 성격 지표를 증가\n",
    "        elif c < 4:\n",
    "            score[s[0]] += 4 - c\n",
    "\n",
    "    updatetype = list(score.items())\n",
    "\n",
    "    for i in range(0, len(updatetype),2):  #두 유형 중 하나를 선택 후 넘어감\n",
    "        if updatetype[i+1][1] > updatetype[i][1]: #i+1 유형이 더 크다면 ex) RT 중 T가 큰 경우\n",
    "            answer += updatetype[i+1][0]   #i+1 유형을 삽입\n",
    "        else:\n",
    "            answer += updatetype[i][0]\n",
    "\n",
    "    return answer"
   ]
  },
  {
   "cell_type": "code",
   "execution_count": 2,
   "metadata": {},
   "outputs": [
    {
     "name": "stdout",
     "output_type": "stream",
     "text": [
      "TCMA\n",
      "RCJA\n"
     ]
    }
   ],
   "source": [
    "print(solution([\"AN\", \"CF\", \"MJ\", \"RT\", \"NA\"], [5, 3, 2, 7, 5]))    #\"TCMA\"\n",
    "print(solution([\"TR\", \"RT\", \"TR\"], [7, 1, 3]))    #\"RCJA\""
   ]
  },
  {
   "cell_type": "code",
   "execution_count": 20,
   "metadata": {},
   "outputs": [
    {
     "name": "stdout",
     "output_type": "stream",
     "text": [
      "[('R', 0), ('T', 3), ('C', 1), ('F', 0), ('J', 0), ('M', 2), ('A', 1), ('N', 1)]\n",
      "if : T\n",
      "else : TC\n",
      "if : TCM\n",
      "else : TCMA\n"
     ]
    }
   ],
   "source": [
    "survey = [\"AN\", \"CF\", \"MJ\", \"RT\", \"NA\"]\n",
    "choices = [5, 3, 2, 7, 5]\n",
    "answer = ''\n",
    "score = {\"R\":0, \"T\":0,\"C\":0,\"F\":0,\"J\":0,\"M\":0,\"A\":0,\"N\":0}\n",
    "for s, c in zip(survey, choices):\n",
    "    if c > 4:\n",
    "        score[s[1]] += c-4\n",
    "        # print(score)\n",
    "    else:\n",
    "        score[s[0]] += 4-c\n",
    "        # print(score)\n",
    "\n",
    "updateScore = list(score.items())\n",
    "print(updateScore)\n",
    "for i in range(0, len(updateScore),2):\n",
    "    # print(\"[i+1][0] :\", updateScore[i+1][0])  #문자\n",
    "    # print(\"[i+1][1] :\", updateScore[i+1][1])  #숫자\n",
    "    if updateScore[i+1][1] > updateScore[i][1]:\n",
    "        answer += updateScore[i+1][0]\n",
    "        print(\"if :\",answer)\n",
    "    else:\n",
    "        answer += updateScore[i][0]\n",
    "        print(\"else :\",answer)\n",
    "# print(answer)"
   ]
  },
  {
   "cell_type": "code",
   "execution_count": null,
   "metadata": {},
   "outputs": [],
   "source": []
  }
 ],
 "metadata": {
  "kernelspec": {
   "display_name": "Python 3",
   "language": "python",
   "name": "python3"
  },
  "language_info": {
   "codemirror_mode": {
    "name": "ipython",
    "version": 3
   },
   "file_extension": ".py",
   "mimetype": "text/x-python",
   "name": "python",
   "nbconvert_exporter": "python",
   "pygments_lexer": "ipython3",
   "version": "3.9.13"
  },
  "orig_nbformat": 4
 },
 "nbformat": 4,
 "nbformat_minor": 2
}
